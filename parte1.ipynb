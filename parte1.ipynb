{
 "cells": [
  {
   "cell_type": "code",
   "execution_count": null,
   "metadata": {},
   "outputs": [],
   "source": [
    "#Angel\n",
    "import cv2\n",
    "import numpy as np\n",
    "from matplotlib import pyplot as plt\n",
    "\n",
    "# Carga la imagen y la plantilla (template)\n",
    "img = cv2.imread('imagen.png', 0)\n",
    "template = cv2.imread('patron.png', 0)"
   ]
  }
 ],
 "metadata": {
  "language_info": {
   "name": "python"
  },
  "orig_nbformat": 4
 },
 "nbformat": 4,
 "nbformat_minor": 2
}
#Gustavo
# Aplica la convolución de la imagen con la plantilla utilizando la función matchTemplate
res = cv2.matchTemplate(img, template, cv2.TM_CCOEFF_NORMED)

# Establece un umbral para la detección de coincidencias
threshold = 0.7
loc = np.where(res >= threshold)

# Dibuja un rectángulo alrededor de las coincidencias encontradas
for pt in zip(*loc[::-1]):
    cv2.rectangle(img, pt, (pt[0] + w, pt[1] + h), (0, 255, 255), 2)

# Muestra la imagen con las coincidencias encontradas
plt.imshow(img, cmap='gray')
plt.title('Resultado de la búsqueda de patrones')
plt.show()
