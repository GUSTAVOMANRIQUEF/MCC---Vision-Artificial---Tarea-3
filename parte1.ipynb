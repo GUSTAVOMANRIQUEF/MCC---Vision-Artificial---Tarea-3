{
 "cells": [
  {
   "cell_type": "code",
   "execution_count": null,
   "metadata": {},
   "outputs": [],
   "source": [
    "#Angel\n",
    "import cv2\n",
    "import numpy as np\n",
    "from matplotlib import pyplot as plt\n",
    "\n",
    "# Carga la imagen y la plantilla (template)\n",
    "img = cv2.imread('imagen.png', 0)\n",
    "template = cv2.imread('patron.png', 0)\n",
    "\n",
    "#Gustavo\n",
    "# Aplica la convolución de la imagen con la plantilla utilizando la función matchTemplate\n",
    "res = cv2.matchTemplate(img, template, cv2.TM_CCOEFF_NORMED)\n",
    "\n",
    "# Establece un umbral para la detección de coincidencias\n",
    "threshold = 0.7\n",
    "loc = np.where(res >= threshold)\n",
    "\n",
    "# Dibuja un rectángulo alrededor de las coincidencias encontradas\n",
    "for pt in zip(*loc[::-1]):\n",
    "    cv2.rectangle(img, pt, (pt[0] + w, pt[1] + h), (0, 255, 255), 2)\n",
    "\n",
    "# Muestra la imagen con las coincidencias encontradas\n",
    "plt.imshow(img, cmap='gray')\n",
    "plt.title('Resultado de la búsqueda de patrones')\n",
    "plt.show()"
   ]
  }
 ],
 "metadata": {
  "language_info": {
   "name": "python"
  },
  "orig_nbformat": 4
 },
 "nbformat": 4,
 "nbformat_minor": 2
}
